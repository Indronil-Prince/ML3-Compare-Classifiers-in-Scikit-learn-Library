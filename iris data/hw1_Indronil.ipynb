{
 "cells": [
  {
   "cell_type": "markdown",
   "metadata": {},
   "source": [
    "## CS 519 Applied Machine Learning I\n",
    "#### **HW1: Basic Python Programming**\n",
    "##### Indronil Bhattacharjee\n"
   ]
  },
  {
   "cell_type": "markdown",
   "metadata": {},
   "source": [
    "**Task 1: Read data from the Iris dataset**"
   ]
  },
  {
   "cell_type": "code",
   "execution_count": 35,
   "metadata": {},
   "outputs": [],
   "source": [
    "import pandas as pd\n",
    "import matplotlib.pyplot as plt\n",
    "\n",
    "# Task 1\n",
    "def read_dataset():\n",
    "    iris_data = pd.read_csv(\"iris.data\", header=None) # read data \n",
    "    print(\"Data reading completed\")\n",
    "    return iris_data\n"
   ]
  },
  {
   "cell_type": "markdown",
   "metadata": {},
   "source": [
    "**Task 2: Counting number of rows and columns**"
   ]
  },
  {
   "cell_type": "code",
   "execution_count": 36,
   "metadata": {},
   "outputs": [],
   "source": [
    "# Task 2\n",
    "def row_column(dataset):\n",
    "    rows, columns = dataset.shape # row and column count\n",
    "    print(f\"Number of rows: {rows}\")\n",
    "    print(f\"Number of columns: {columns}\")"
   ]
  },
  {
   "cell_type": "markdown",
   "metadata": {},
   "source": [
    "**Task 3: Get the distinct values of the last column**"
   ]
  },
  {
   "cell_type": "code",
   "execution_count": 37,
   "metadata": {},
   "outputs": [],
   "source": [
    "# Task 3\n",
    "def distinct_values(dataset):\n",
    "    distinct_values = dataset.iloc[:, -1].unique() # get distinct values with unique()\n",
    "    print(f\"Distinct values of the last column: {distinct_values}\")"
   ]
  },
  {
   "cell_type": "markdown",
   "metadata": {},
   "source": [
    "**Task 4: Count, Average, Minimum, Maximum**"
   ]
  },
  {
   "cell_type": "code",
   "execution_count": 38,
   "metadata": {},
   "outputs": [],
   "source": [
    "# Task 4\n",
    "def analyze_setosa_data(dataset):\n",
    "    setosa_data = dataset[dataset.iloc[:, -1] == \"Iris-setosa\"]\n",
    "    num_rows = setosa_data.shape[0]\n",
    "    avg_first_col = setosa_data.iloc[:, 0].mean() # get average with mean()\n",
    "    max_second_col = setosa_data.iloc[:, 1].max() # get maximum with max()\n",
    "    min_third_col = setosa_data.iloc[:, 2].min() # get minimum with min()\n",
    "\n",
    "    print(f\"Number of rows with 'Iris-setosa': {num_rows}\")\n",
    "    print(f\"Average value of the first column: {avg_first_col}\")\n",
    "    print(f\"Maximum value of the second column: {max_second_col}\")\n",
    "    print(f\"Minimum value of the third column: {min_third_col}\")"
   ]
  },
  {
   "cell_type": "markdown",
   "metadata": {},
   "source": [
    "**Task 5: Visualization of data**"
   ]
  },
  {
   "cell_type": "code",
   "execution_count": 39,
   "metadata": {},
   "outputs": [],
   "source": [
    "# Task 5\n",
    "def plot_scatter_plot(dataset):\n",
    "    colors = {'Iris-setosa': 'red', 'Iris-versicolor': 'blue', 'Iris-virginica': 'green'}\n",
    "    shapes = {'Iris-setosa': 's', 'Iris-versicolor': 'o', 'Iris-virginica': '^'}\n",
    "\n",
    "    for species, group in dataset.groupby(dataset.iloc[:, -1]):\n",
    "        plt.scatter(group.iloc[:, 0], group.iloc[:, 1], color=colors[species], \n",
    "                    marker=shapes[species], label=species) # visualize with scatter plot\n",
    "\n",
    "    plt.xlabel(\"First Column\")\n",
    "    plt.ylabel(\"Second Column\")\n",
    "    plt.legend()\n",
    "    plt.show()"
   ]
  },
  {
   "cell_type": "markdown",
   "metadata": {},
   "source": [
    "**Task 6: Readme file**"
   ]
  },
  {
   "cell_type": "code",
   "execution_count": 40,
   "metadata": {},
   "outputs": [],
   "source": [
    "# Task 6\n",
    "# Please read instructions in the readme.txt file"
   ]
  },
  {
   "cell_type": "markdown",
   "metadata": {},
   "source": [
    "**Execution of the task functions**"
   ]
  },
  {
   "cell_type": "code",
   "execution_count": 41,
   "metadata": {},
   "outputs": [
    {
     "name": "stdout",
     "output_type": "stream",
     "text": [
      "Task 1\n",
      "Data reading completed.\n",
      "_______________________________________\n",
      "Task 2\n",
      "Number of rows: 150\n",
      "Number of columns: 5\n",
      "_______________________________________\n",
      "Task 3\n",
      "Distinct values of the last column: ['Iris-setosa' 'Iris-versicolor' 'Iris-virginica']\n",
      "_______________________________________\n",
      "Task 4\n",
      "Number of rows with 'Iris-setosa': 50\n",
      "Average value of the first column: 5.006\n",
      "Maximum value of the second column: 4.4\n",
      "Minimum value of the third column: 1.0\n",
      "_______________________________________\n",
      "Task 5\n"
     ]
    },
    {
     "data": {
      "image/png": "[encoded data removed]",
      "text/plain": [
       "<Figure size 640x480 with 1 Axes>"
      ]
     },
     "metadata": {},
     "output_type": "display_data"
    }
   ],
   "source": [
    "# Main program\n",
    "if __name__ == \"__main__\":\n",
    "    print(\"Task 1\")\n",
    "    iris_dataset = read_dataset()\n",
    "    print(\"_______________________________________\")\n",
    "    print(\"Task 2\")\n",
    "    row_column(iris_dataset)\n",
    "    print(\"_______________________________________\")   \n",
    "    print(\"Task 3\")\n",
    "    distinct_values(iris_dataset)\n",
    "    print(\"_______________________________________\")\n",
    "    print(\"Task 4\")\n",
    "    analyze_setosa_data(iris_dataset)\n",
    "    print(\"_______________________________________\")\n",
    "    print(\"Task 5\")\n",
    "    plot_scatter_plot(iris_dataset)\n"
   ]
  }
 ],
 "metadata": {
  "kernelspec": {
   "display_name": "Python 3",
   "language": "python",
   "name": "python3"
  },
  "language_info": {
   "codemirror_mode": {
    "name": "ipython",
    "version": 3
   },
   "file_extension": ".py",
   "mimetype": "text/x-python",
   "name": "python",
   "nbconvert_exporter": "python",
   "pygments_lexer": "ipython3",
   "version": "3.11.3"
  }
 },
 "nbformat": 4,
 "nbformat_minor": 2
}
